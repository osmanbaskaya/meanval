{
 "cells": [
  {
   "cell_type": "code",
   "execution_count": null,
   "metadata": {
    "collapsed": false
   },
   "outputs": [],
   "source": [
    "import pandas as pd\n",
    "from glob import glob\n",
    "import os\n",
    "from collections import defaultdict as dd"
   ]
  },
  {
   "cell_type": "code",
   "execution_count": 16,
   "metadata": {
    "collapsed": false
   },
   "outputs": [
    {
     "data": {
      "text/html": [
       "<div>\n",
       "<table border=\"1\" class=\"dataframe\">\n",
       "  <thead>\n",
       "    <tr style=\"text-align: right;\">\n",
       "      <th></th>\n",
       "      <th>judgeid</th>\n",
       "      <th>rank</th>\n",
       "      <th>rankingid</th>\n",
       "      <th>segmentid</th>\n",
       "      <th>srcindex</th>\n",
       "      <th>srclang</th>\n",
       "      <th>system</th>\n",
       "      <th>trglang</th>\n",
       "      <th>reference</th>\n",
       "      <th>transition</th>\n",
       "    </tr>\n",
       "  </thead>\n",
       "  <tbody>\n",
       "    <tr>\n",
       "      <th>0</th>\n",
       "      <td>judge47</td>\n",
       "      <td>1</td>\n",
       "      <td>487</td>\n",
       "      <td>1387</td>\n",
       "      <td>1387</td>\n",
       "      <td>ces</td>\n",
       "      <td>newstest2015.uedin-syntax.4004.cs-en.txt</td>\n",
       "      <td>eng</td>\n",
       "      <td>18 machine got loose coming out of turn 2 and ...</td>\n",
       "      <td>18 got out of control, out of the second bend ...</td>\n",
       "    </tr>\n",
       "    <tr>\n",
       "      <th>1</th>\n",
       "      <td>judge47</td>\n",
       "      <td>2</td>\n",
       "      <td>487</td>\n",
       "      <td>1387</td>\n",
       "      <td>1387</td>\n",
       "      <td>ces</td>\n",
       "      <td>newstest2015.CU-TectoMT.4138.cs-en.txt</td>\n",
       "      <td>eng</td>\n",
       "      <td>18 machine got loose coming out of turn 2 and ...</td>\n",
       "      <td>18 it got out of a control, it came from the s...</td>\n",
       "    </tr>\n",
       "    <tr>\n",
       "      <th>2</th>\n",
       "      <td>judge47</td>\n",
       "      <td>4</td>\n",
       "      <td>488</td>\n",
       "      <td>2061</td>\n",
       "      <td>2061</td>\n",
       "      <td>ces</td>\n",
       "      <td>newstest2015.uedin-jhu-phrase.4071.cs-en.txt</td>\n",
       "      <td>eng</td>\n",
       "      <td>Among the rejected items were the writings of ...</td>\n",
       "      <td>Among the items we find odmítnutými writings a...</td>\n",
       "    </tr>\n",
       "    <tr>\n",
       "      <th>3</th>\n",
       "      <td>judge47</td>\n",
       "      <td>1</td>\n",
       "      <td>488</td>\n",
       "      <td>2061</td>\n",
       "      <td>2061</td>\n",
       "      <td>ces</td>\n",
       "      <td>newstest2015.online-A.0.cs-en.txt</td>\n",
       "      <td>eng</td>\n",
       "      <td>Among the rejected items were the writings of ...</td>\n",
       "      <td>Among the rejected items we find the writings ...</td>\n",
       "    </tr>\n",
       "    <tr>\n",
       "      <th>4</th>\n",
       "      <td>judge47</td>\n",
       "      <td>2</td>\n",
       "      <td>488</td>\n",
       "      <td>2061</td>\n",
       "      <td>2061</td>\n",
       "      <td>ces</td>\n",
       "      <td>newstest2015.online-B.0.cs-en.txt</td>\n",
       "      <td>eng</td>\n",
       "      <td>Among the rejected items were the writings of ...</td>\n",
       "      <td>Declined items can be found among the writings...</td>\n",
       "    </tr>\n",
       "  </tbody>\n",
       "</table>\n",
       "</div>"
      ],
      "text/plain": [
       "   judgeid  rank  rankingid  segmentid  srcindex srclang  \\\n",
       "0  judge47     1        487       1387      1387     ces   \n",
       "1  judge47     2        487       1387      1387     ces   \n",
       "2  judge47     4        488       2061      2061     ces   \n",
       "3  judge47     1        488       2061      2061     ces   \n",
       "4  judge47     2        488       2061      2061     ces   \n",
       "\n",
       "                                         system trglang  \\\n",
       "0      newstest2015.uedin-syntax.4004.cs-en.txt     eng   \n",
       "1        newstest2015.CU-TectoMT.4138.cs-en.txt     eng   \n",
       "2  newstest2015.uedin-jhu-phrase.4071.cs-en.txt     eng   \n",
       "3             newstest2015.online-A.0.cs-en.txt     eng   \n",
       "4             newstest2015.online-B.0.cs-en.txt     eng   \n",
       "\n",
       "                                           reference  \\\n",
       "0  18 machine got loose coming out of turn 2 and ...   \n",
       "1  18 machine got loose coming out of turn 2 and ...   \n",
       "2  Among the rejected items were the writings of ...   \n",
       "3  Among the rejected items were the writings of ...   \n",
       "4  Among the rejected items were the writings of ...   \n",
       "\n",
       "                                          transition  \n",
       "0  18 got out of control, out of the second bend ...  \n",
       "1  18 it got out of a control, it came from the s...  \n",
       "2  Among the items we find odmítnutými writings a...  \n",
       "3  Among the rejected items we find the writings ...  \n",
       "4  Declined items can be found among the writings...  "
      ]
     },
     "execution_count": 16,
     "metadata": {},
     "output_type": "execute_result"
    }
   ],
   "source": [
    "df = pd.read_csv('meanval/wmt15.csv', sep=\"\\t\")\n",
    "df.head()"
   ]
  }
 ],
 "metadata": {
  "anaconda-cloud": {},
  "kernelspec": {
   "display_name": "Python [conda root]",
   "language": "python",
   "name": "conda-root-py"
  },
  "language_info": {
   "codemirror_mode": {
    "name": "ipython",
    "version": 3
   },
   "file_extension": ".py",
   "mimetype": "text/x-python",
   "name": "python",
   "nbconvert_exporter": "python",
   "pygments_lexer": "ipython3",
   "version": "3.5.2"
  }
 },
 "nbformat": 4,
 "nbformat_minor": 1
}
